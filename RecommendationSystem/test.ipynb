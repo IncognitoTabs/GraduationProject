{
 "cells": [
  {
   "attachments": {},
   "cell_type": "markdown",
   "metadata": {},
   "source": [
    "## Recommendation System"
   ]
  },
  {
   "cell_type": "code",
   "execution_count": 1,
   "metadata": {},
   "outputs": [
    {
     "data": {
      "text/plain": [
       "<firebase_admin.App at 0x17bb9dce130>"
      ]
     },
     "execution_count": 1,
     "metadata": {},
     "output_type": "execute_result"
    }
   ],
   "source": [
    "import firebase_admin\n",
    "from firebase_admin import db,credentials\n",
    "import main as recommender\n",
    "import pandas as pd\n",
    "from random import sample\n",
    "cred = credentials.Certificate(\"serviceAccountKey.json\")\n",
    "firebase_admin.initialize_app(cred, {'databaseURL': 'https://fir-demo-29d5b-default-rtdb.firebaseio.com'})"
   ]
  },
  {
   "attachments": {},
   "cell_type": "markdown",
   "metadata": {},
   "source": [
    "### Get data from Firebase Realtime DB"
   ]
  },
  {
   "cell_type": "code",
   "execution_count": 2,
   "metadata": {},
   "outputs": [],
   "source": [
    "ref = db.reference('/')\n",
    "data = ref.child('songs').order_by_child('id').get()\n",
    "songs = []\n",
    "for key in data:\n",
    "    songs.append(data[key])"
   ]
  },
  {
   "cell_type": "code",
   "execution_count": 3,
   "metadata": {},
   "outputs": [
    {
     "data": {
      "text/html": [
       "<div>\n",
       "<style scoped>\n",
       "    .dataframe tbody tr th:only-of-type {\n",
       "        vertical-align: middle;\n",
       "    }\n",
       "\n",
       "    .dataframe tbody tr th {\n",
       "        vertical-align: top;\n",
       "    }\n",
       "\n",
       "    .dataframe thead th {\n",
       "        text-align: right;\n",
       "    }\n",
       "</style>\n",
       "<table border=\"1\" class=\"dataframe\">\n",
       "  <thead>\n",
       "    <tr style=\"text-align: right;\">\n",
       "      <th></th>\n",
       "      <th>id</th>\n",
       "      <th>all_tags</th>\n",
       "    </tr>\n",
       "  </thead>\n",
       "  <tbody>\n",
       "    <tr>\n",
       "      <th>0</th>\n",
       "      <td>jgHYgDFD0xo</td>\n",
       "      <td>[Lana, Del, Rey, YouTube]</td>\n",
       "    </tr>\n",
       "    <tr>\n",
       "      <th>1</th>\n",
       "      <td>tSEgZC7zASQ</td>\n",
       "      <td>[Hamlet, Trương, YouTube]</td>\n",
       "    </tr>\n",
       "    <tr>\n",
       "      <th>2</th>\n",
       "      <td>HOLSM3HkKPs</td>\n",
       "      <td>[YOUNG, STONER, LIFE, RECORDS, YouTube]</td>\n",
       "    </tr>\n",
       "    <tr>\n",
       "      <th>3</th>\n",
       "      <td>gW9Cgg4qg-U</td>\n",
       "      <td>[KhangProFilm, YouTube]</td>\n",
       "    </tr>\n",
       "    <tr>\n",
       "      <th>4</th>\n",
       "      <td>-GQg25oP0S4</td>\n",
       "      <td>[HYBE, LABELS, YouTube]</td>\n",
       "    </tr>\n",
       "  </tbody>\n",
       "</table>\n",
       "</div>"
      ],
      "text/plain": [
       "            id                                 all_tags\n",
       "0  jgHYgDFD0xo                [Lana, Del, Rey, YouTube]\n",
       "1  tSEgZC7zASQ                [Hamlet, Trương, YouTube]\n",
       "2  HOLSM3HkKPs  [YOUNG, STONER, LIFE, RECORDS, YouTube]\n",
       "3  gW9Cgg4qg-U                  [KhangProFilm, YouTube]\n",
       "4  -GQg25oP0S4                  [HYBE, LABELS, YouTube]"
      ]
     },
     "execution_count": 3,
     "metadata": {},
     "output_type": "execute_result"
    }
   ],
   "source": [
    "songs_df = pd.DataFrame(songs).dropna().drop_duplicates(['id'])\n",
    "\n",
    "song_stat_df = songs_df.sample(5,ignore_index=True)\n",
    "song_stat_df.drop(columns=['320kbps','album_id' ,'duration','has_lyrics' , 'image','perma_url', 'url', 'release_date', 'title' ,'album','language' , 'subtitle','year'],inplace=True) #drop all of unnecessary columns \n",
    "# to convert string into list of strings \n",
    "def spliting(text):\n",
    "  text=str(text).split()\n",
    "  return text\n",
    "song_stat_df['genre'] = song_stat_df['genre'].apply(spliting)\n",
    "song_stat_df['artist'] = song_stat_df['artist'].apply(spliting)\n",
    "song_stat_df['all_tags'] = song_stat_df['artist'] + song_stat_df['genre'] \n",
    "song_stat_df.drop(columns=['genre','artist'],inplace=True)\n",
    "song_stat_df"
   ]
  },
  {
   "cell_type": "code",
   "execution_count": 4,
   "metadata": {},
   "outputs": [
    {
     "data": {
      "text/html": [
       "<div>\n",
       "<style scoped>\n",
       "    .dataframe tbody tr th:only-of-type {\n",
       "        vertical-align: middle;\n",
       "    }\n",
       "\n",
       "    .dataframe tbody tr th {\n",
       "        vertical-align: top;\n",
       "    }\n",
       "\n",
       "    .dataframe thead th {\n",
       "        text-align: right;\n",
       "    }\n",
       "</style>\n",
       "<table border=\"1\" class=\"dataframe\">\n",
       "  <thead>\n",
       "    <tr style=\"text-align: right;\">\n",
       "      <th></th>\n",
       "      <th>id</th>\n",
       "      <th>all_tags</th>\n",
       "    </tr>\n",
       "  </thead>\n",
       "  <tbody>\n",
       "    <tr>\n",
       "      <th>0</th>\n",
       "      <td>jgHYgDFD0xo</td>\n",
       "      <td>[lana, del, rey, youtube]</td>\n",
       "    </tr>\n",
       "    <tr>\n",
       "      <th>1</th>\n",
       "      <td>tSEgZC7zASQ</td>\n",
       "      <td>[hamlet, trương, youtube]</td>\n",
       "    </tr>\n",
       "    <tr>\n",
       "      <th>2</th>\n",
       "      <td>HOLSM3HkKPs</td>\n",
       "      <td>[young, stoner, life, records, youtube]</td>\n",
       "    </tr>\n",
       "    <tr>\n",
       "      <th>3</th>\n",
       "      <td>gW9Cgg4qg-U</td>\n",
       "      <td>[khangprofilm, youtube]</td>\n",
       "    </tr>\n",
       "    <tr>\n",
       "      <th>4</th>\n",
       "      <td>-GQg25oP0S4</td>\n",
       "      <td>[hybe, labels, youtube]</td>\n",
       "    </tr>\n",
       "  </tbody>\n",
       "</table>\n",
       "</div>"
      ],
      "text/plain": [
       "            id                                 all_tags\n",
       "0  jgHYgDFD0xo                [lana, del, rey, youtube]\n",
       "1  tSEgZC7zASQ                [hamlet, trương, youtube]\n",
       "2  HOLSM3HkKPs  [young, stoner, life, records, youtube]\n",
       "3  gW9Cgg4qg-U                  [khangprofilm, youtube]\n",
       "4  -GQg25oP0S4                  [hybe, labels, youtube]"
      ]
     },
     "execution_count": 4,
     "metadata": {},
     "output_type": "execute_result"
    }
   ],
   "source": [
    "def convert_lower(text):\n",
    "  l=[]\n",
    "  for item in text:\n",
    "    l.append(item.lower())\n",
    "  return l\n",
    "song_stat_df['all_tags']=song_stat_df['all_tags'].apply(convert_lower)\n",
    "song_stat_df"
   ]
  },
  {
   "cell_type": "code",
   "execution_count": 5,
   "metadata": {},
   "outputs": [
    {
     "data": {
      "text/plain": [
       "0                lana del rey youtub\n",
       "1               hamlet trương youtub\n",
       "2    young stoner life record youtub\n",
       "3                khangprofilm youtub\n",
       "4                  hybe label youtub\n",
       "Name: all_tags, dtype: object"
      ]
     },
     "execution_count": 5,
     "metadata": {},
     "output_type": "execute_result"
    }
   ],
   "source": [
    "from nltk.stem.porter import PorterStemmer\n",
    "ps=PorterStemmer()\n",
    "def steming(text):\n",
    "  l=[]\n",
    "  for i in text:\n",
    "    l.append(ps.stem(i))\n",
    "  return l\n",
    "song_stat_df['all_tags'] = song_stat_df['all_tags'].apply(steming)\n",
    "song_stat_df['all_tags'] = song_stat_df['all_tags'].apply(lambda x: \" \".join(x))\n",
    "song_stat_df['all_tags']"
   ]
  },
  {
   "cell_type": "code",
   "execution_count": 6,
   "metadata": {},
   "outputs": [
    {
     "name": "stdout",
     "output_type": "stream",
     "text": [
      "Unique vocabulary:  {'lana': 5, 'del': 0, 'rey': 8, 'youtub': 12, 'hamlet': 1, 'trương': 10, 'young': 11, 'stoner': 9, 'life': 6, 'record': 7, 'khangprofilm': 3, 'hybe': 2, 'label': 4}\n"
     ]
    },
    {
     "data": {
      "text/plain": [
       "array([[0.55666851, 0.        , 0.        , 0.        , 0.        ,\n",
       "        0.55666851, 0.        , 0.        , 0.55666851, 0.        ,\n",
       "        0.        , 0.        , 0.26525553],\n",
       "       [0.        , 0.67009179, 0.        , 0.        , 0.        ,\n",
       "        0.        , 0.        , 0.        , 0.        , 0.        ,\n",
       "        0.67009179, 0.        , 0.31930233],\n",
       "       [0.        , 0.        , 0.        , 0.        , 0.        ,\n",
       "        0.        , 0.48638585, 0.48638585, 0.        , 0.48638585,\n",
       "        0.        , 0.48638585, 0.23176546],\n",
       "       [0.        , 0.        , 0.        , 0.90275015, 0.        ,\n",
       "        0.        , 0.        , 0.        , 0.        , 0.        ,\n",
       "        0.        , 0.        , 0.43016528],\n",
       "       [0.        , 0.        , 0.67009179, 0.        , 0.67009179,\n",
       "        0.        , 0.        , 0.        , 0.        , 0.        ,\n",
       "        0.        , 0.        , 0.31930233]])"
      ]
     },
     "execution_count": 6,
     "metadata": {},
     "output_type": "execute_result"
    }
   ],
   "source": [
    "from sklearn.feature_extraction.text import TfidfVectorizer\n",
    "vectorizer = TfidfVectorizer()\n",
    "all_tags = song_stat_df['all_tags']\n",
    "data = vectorizer.fit_transform(all_tags)\n",
    "print(\"Unique vocabulary: \", vectorizer.vocabulary_)\n",
    "data.toarray()"
   ]
  },
  {
   "cell_type": "code",
   "execution_count": 7,
   "metadata": {},
   "outputs": [
    {
     "data": {
      "text/plain": [
       "array([[1.        , 0.08469671, 0.06147707, 0.11410372, 0.08469671],\n",
       "       [0.08469671, 1.        , 0.07400325, 0.13735278, 0.10195398],\n",
       "       [0.06147707, 0.07400325, 1.        , 0.09969746, 0.07400325],\n",
       "       [0.11410372, 0.13735278, 0.09969746, 1.        , 0.13735278],\n",
       "       [0.08469671, 0.10195398, 0.07400325, 0.13735278, 1.        ]])"
      ]
     },
     "execution_count": 7,
     "metadata": {},
     "output_type": "execute_result"
    }
   ],
   "source": [
    "from sklearn.metrics.pairwise import cosine_similarity\n",
    "similarity = cosine_similarity(data)\n",
    "similarity"
   ]
  },
  {
   "cell_type": "code",
   "execution_count": 8,
   "metadata": {},
   "outputs": [
    {
     "data": {
      "text/html": [
       "<div>\n",
       "<style scoped>\n",
       "    .dataframe tbody tr th:only-of-type {\n",
       "        vertical-align: middle;\n",
       "    }\n",
       "\n",
       "    .dataframe tbody tr th {\n",
       "        vertical-align: top;\n",
       "    }\n",
       "\n",
       "    .dataframe thead th {\n",
       "        text-align: right;\n",
       "    }\n",
       "</style>\n",
       "<table border=\"1\" class=\"dataframe\">\n",
       "  <thead>\n",
       "    <tr style=\"text-align: right;\">\n",
       "      <th></th>\n",
       "      <th>artist</th>\n",
       "      <th>id</th>\n",
       "      <th>title</th>\n",
       "    </tr>\n",
       "  </thead>\n",
       "  <tbody>\n",
       "    <tr>\n",
       "      <th>0</th>\n",
       "      <td>Lana Del Rey</td>\n",
       "      <td>jgHYgDFD0xo</td>\n",
       "      <td>Summertime Sadness (Lana Del Rey Vs. Cedric Ge...</td>\n",
       "    </tr>\n",
       "    <tr>\n",
       "      <th>1</th>\n",
       "      <td>KhangProFilm</td>\n",
       "      <td>gW9Cgg4qg-U</td>\n",
       "      <td>LÀM DÂU MÁ ANH ĐI - OFFICIAL MV | LÂM CHẤN KHA...</td>\n",
       "    </tr>\n",
       "    <tr>\n",
       "      <th>2</th>\n",
       "      <td>Hamlet Trương</td>\n",
       "      <td>tSEgZC7zASQ</td>\n",
       "      <td>Yêu Đi Rồi Khóc (Love then tears) | Hamlet Trư...</td>\n",
       "    </tr>\n",
       "    <tr>\n",
       "      <th>3</th>\n",
       "      <td>HYBE LABELS</td>\n",
       "      <td>-GQg25oP0S4</td>\n",
       "      <td>SEVENTEEN (세븐틴) '손오공' Official MV</td>\n",
       "    </tr>\n",
       "    <tr>\n",
       "      <th>4</th>\n",
       "      <td>YOUNG STONER LIFE RECORDS</td>\n",
       "      <td>HOLSM3HkKPs</td>\n",
       "      <td>Karlae - I Like (feat. Coi Leray) [Official Vi...</td>\n",
       "    </tr>\n",
       "  </tbody>\n",
       "</table>\n",
       "</div>"
      ],
      "text/plain": [
       "                      artist           id  \\\n",
       "0               Lana Del Rey  jgHYgDFD0xo   \n",
       "1               KhangProFilm  gW9Cgg4qg-U   \n",
       "2              Hamlet Trương  tSEgZC7zASQ   \n",
       "3                HYBE LABELS  -GQg25oP0S4   \n",
       "4  YOUNG STONER LIFE RECORDS  HOLSM3HkKPs   \n",
       "\n",
       "                                               title  \n",
       "0  Summertime Sadness (Lana Del Rey Vs. Cedric Ge...  \n",
       "1  LÀM DÂU MÁ ANH ĐI - OFFICIAL MV | LÂM CHẤN KHA...  \n",
       "2  Yêu Đi Rồi Khóc (Love then tears) | Hamlet Trư...  \n",
       "3                  SEVENTEEN (세븐틴) '손오공' Official MV  \n",
       "4  Karlae - I Like (feat. Coi Leray) [Official Vi...  "
      ]
     },
     "execution_count": 8,
     "metadata": {},
     "output_type": "execute_result"
    }
   ],
   "source": [
    "def recommend(song):\n",
    "    index = song_stat_df[song_stat_df['id'] == song].index.values[0]\n",
    "    distances = sorted(list(enumerate(similarity[index])),reverse=True,key = lambda x: x[1])\n",
    "    list_id = []\n",
    "    for i in distances:\n",
    "        if len(list_id) > 20:\n",
    "            break\n",
    "        id = song_stat_df.iloc[i[0]].id\n",
    "        if id not in list_id:\n",
    "            list_id.append(id)\n",
    "    columns = ['320kbps','album','album_id','artist','duration','genre','has_lyrics','id','image','language','perma_url','release_date','subtitle','title','url','year']\n",
    "    list_result = pd.DataFrame(columns= columns)\n",
    "    for id in list_id:\n",
    "        result = songs_df.query('id == @id')\n",
    "        list_result = pd.concat([list_result, result], ignore_index=True).drop_duplicates(['id'])\n",
    "    list_result.drop(columns=['320kbps','album_id' ,'duration','has_lyrics' , 'image','perma_url', 'url', 'release_date', 'genre' ,'album','language' , 'subtitle','year'],inplace=True)\n",
    "    return list_result\n",
    "    \n",
    "recommend(\"jgHYgDFD0xo\")"
   ]
  },
  {
   "attachments": {},
   "cell_type": "markdown",
   "metadata": {},
   "source": [
    "## API"
   ]
  },
  {
   "cell_type": "code",
   "execution_count": null,
   "metadata": {},
   "outputs": [],
   "source": [
    "import service as sv\n",
    "self_sv = sv.firebase_service()\n",
    "self_sv.get_data_and_preprocessing()"
   ]
  },
  {
   "cell_type": "code",
   "execution_count": null,
   "metadata": {},
   "outputs": [],
   "source": [
    "self_sv.random_update_stats()"
   ]
  }
 ],
 "metadata": {
  "kernelspec": {
   "display_name": "Python 3",
   "language": "python",
   "name": "python3"
  },
  "language_info": {
   "codemirror_mode": {
    "name": "ipython",
    "version": 3
   },
   "file_extension": ".py",
   "mimetype": "text/x-python",
   "name": "python",
   "nbconvert_exporter": "python",
   "pygments_lexer": "ipython3",
   "version": "3.9.6"
  },
  "orig_nbformat": 4
 },
 "nbformat": 4,
 "nbformat_minor": 2
}
